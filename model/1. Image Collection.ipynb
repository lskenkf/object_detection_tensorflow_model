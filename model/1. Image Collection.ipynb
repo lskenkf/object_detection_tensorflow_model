{
 "cells": [
  {
   "cell_type": "markdown",
   "metadata": {},
   "source": [
    "# 1. Import Dependencies"
   ]
  },
  {
   "cell_type": "code",
   "execution_count": 2,
   "metadata": {},
   "outputs": [],
   "source": [
    "import cv2 \n",
    "import uuid\n",
    "import os\n",
    "import time\n",
    "import pyautogui\n",
    "from imutils import contours\n",
    "import imutils\n",
    "import pytesseract"
   ]
  },
  {
   "cell_type": "code",
   "execution_count": 3,
   "metadata": {},
   "outputs": [],
   "source": [
    "screenshot = pyautogui.screenshot()\n",
    "screenshot.save(\"screen.png\")"
   ]
  },
  {
   "cell_type": "code",
   "execution_count": 4,
   "metadata": {},
   "outputs": [],
   "source": [
    "def show_img(img):\n",
    "    cv2.imshow('image',blackAndWhiteImage)\n",
    "    cv2.waitKey(0)\n",
    "    cv2.destroyAllWindows()"
   ]
  },
  {
   "cell_type": "code",
   "execution_count": 7,
   "metadata": {},
   "outputs": [],
   "source": [
    "#image_path = \"D:\\Projects\\object_detection\\model\\data_collection\\dm.png\"\n",
    "image_path = \"D:\\Projects\\object_detection\\model\\screen.png\"\n",
    "\n",
    "\n",
    "pytesseract.pytesseract.tesseract_cmd = r'D:\\tesseract\\tesseract.exe'\n",
    "\n",
    "image = cv2.imread(image_path)\n",
    "image = image[:30,:,:]\n",
    "grayImage = cv2.cvtColor(image, cv2.COLOR_BGR2GRAY)\n",
    "(thresh, blackAndWhiteImage) = cv2.threshold(grayImage, 100, 255,cv2.THRESH_BINARY_INV |cv2.THRESH_BINARY)\n",
    "rect_kernel = cv2.getStructuringElement(cv2.MORPH_RECT, (1, 1))\n",
    "dilation = cv2.dilate(blackAndWhiteImage, rect_kernel, iterations = 1)\n",
    "contours, hierarchy = cv2.findContours(blackAndWhiteImage, cv2.RETR_EXTERNAL,cv2.CHAIN_APPROX_NONE)\n",
    "\n",
    "show_img(blackAndWhiteImage)\n"
   ]
  },
  {
   "cell_type": "code",
   "execution_count": 17,
   "metadata": {},
   "outputs": [
    {
     "data": {
      "text/plain": [
       "27"
      ]
     },
     "execution_count": 17,
     "metadata": {},
     "output_type": "execute_result"
    }
   ],
   "source": [
    "import pytesseract\n",
    "from pytesseract import Output\n",
    "import cv2\n",
    "img = cv2.imread(image_path)\n",
    "img = img[:30,:,:]\n",
    "grayImage = cv2.cvtColor(img, cv2.COLOR_BGR2GRAY)\n",
    "(thresh, blackAndWhiteImage) = cv2.threshold(grayImage, 100, 255,cv2.THRESH_BINARY_INV |cv2.THRESH_BINARY)\n",
    "\n",
    "d = pytesseract.image_to_data(blackAndWhiteImage, output_type=Output.DICT)\n",
    "n_boxes = len(d['level'])\n",
    "for i in range(n_boxes):\n",
    "    (x, y, w, h) = (d['left'][i], d['top'][i], d['width'][i], d['height'][i])\n",
    "    cv2.rectangle(blackAndWhiteImage, (x, y), (x + w, y + h), (0, 255, 0), 2)\n",
    "\n",
    "cv2.imshow('img', blackAndWhiteImage)\n",
    "cv2.waitKey(1)"
   ]
  },
  {
   "cell_type": "code",
   "execution_count": 10,
   "metadata": {},
   "outputs": [],
   "source": [
    "import pytesseract\n",
    "from pytesseract import Output\n",
    "import cv2\n",
    "img = cv2.imread(image_path)\n",
    "img = img[:30,:,:]\n",
    "grayImage = cv2.cvtColor(img, cv2.COLOR_BGR2GRAY)\n",
    "(thresh, blackAndWhiteImage) = cv2.threshold(grayImage, 100, 255,cv2.THRESH_BINARY_INV |cv2.THRESH_BINARY)\n",
    "\n",
    "d = pytesseract.image_to_data(blackAndWhiteImage, output_type=Output.DICT)\n",
    "s = pytesseract.image_to_string(blackAndWhiteImage)"
   ]
  },
  {
   "cell_type": "code",
   "execution_count": 15,
   "metadata": {},
   "outputs": [
    {
     "name": "stdout",
     "output_type": "stream",
     "text": [
      "key: level\n",
      "value: [1, 2, 3, 4, 5, 2, 3, 4, 5, 5, 5, 5, 5, 5, 5, 5, 5, 5, 5, 5, 5, 5, 5, 5, 5, 5, 5, 5, 5, 5, 5, 5, 5, 5, 5, 5, 5, 5, 2, 3, 4, 5]\n",
      "key: page_num\n",
      "value: [1, 1, 1, 1, 1, 1, 1, 1, 1, 1, 1, 1, 1, 1, 1, 1, 1, 1, 1, 1, 1, 1, 1, 1, 1, 1, 1, 1, 1, 1, 1, 1, 1, 1, 1, 1, 1, 1, 1, 1, 1, 1]\n",
      "key: block_num\n",
      "value: [0, 1, 1, 1, 1, 2, 2, 2, 2, 2, 2, 2, 2, 2, 2, 2, 2, 2, 2, 2, 2, 2, 2, 2, 2, 2, 2, 2, 2, 2, 2, 2, 2, 2, 2, 2, 2, 2, 3, 3, 3, 3]\n",
      "key: par_num\n",
      "value: [0, 0, 1, 1, 1, 0, 1, 1, 1, 1, 1, 1, 1, 1, 1, 1, 1, 1, 1, 1, 1, 1, 1, 1, 1, 1, 1, 1, 1, 1, 1, 1, 1, 1, 1, 1, 1, 1, 0, 1, 1, 1]\n",
      "key: line_num\n",
      "value: [0, 0, 0, 1, 1, 0, 0, 1, 1, 1, 1, 1, 1, 1, 1, 1, 1, 1, 1, 1, 1, 1, 1, 1, 1, 1, 1, 1, 1, 1, 1, 1, 1, 1, 1, 1, 1, 1, 0, 0, 1, 1]\n",
      "key: word_num\n",
      "value: [0, 0, 0, 0, 1, 0, 0, 0, 1, 2, 3, 4, 5, 6, 7, 8, 9, 10, 11, 12, 13, 14, 15, 16, 17, 18, 19, 20, 21, 22, 23, 24, 25, 26, 27, 28, 29, 30, 0, 0, 0, 1]\n",
      "key: left\n",
      "value: [0, 1833, 1833, 1833, 1833, 20, 20, 20, 20, 38, 228, 283, 329, 378, 420, 434, 467, 486, 501, 523, 706, 724, 762, 945, 963, 981, 996, 1051, 1106, 1184, 1221, 1240, 1276, 1338, 1346, 1388, 1423, 1754, 261, 261, 261, 261]\n",
      "key: top\n",
      "value: [0, 5, 5, 5, 5, 0, 0, 0, 9, 0, 10, 13, 0, 0, 15, 0, 13, 0, 9, 9, 13, 0, 12, 13, 0, 11, 0, 0, 0, 13, 10, 15, 12, 0, 0, 0, 13, 11, 20, 20, 20, 20]\n",
      "key: width\n",
      "value: [1920, 27, 27, 27, 27, 1790, 1790, 1790, 9, 76, 44, 42, 43, 36, 8, 17, 8, 8, 11, 165, 8, 5, 37, 8, 8, 5, 48, 50, 64, 8, 7, 31, 127, 3, 38, 23, 8, 56, 4, 4, 4, 4]\n",
      "key: height\n",
      "value: [30, 18, 18, 18, 18, 30, 30, 30, 16, 30, 11, 11, 30, 30, 6, 30, 8, 30, 16, 16, 8, 30, 10, 8, 30, 12, 30, 30, 30, 8, 8, 9, 12, 30, 30, 30, 8, 6, 4, 4, 4, 4]\n",
      "key: conf\n",
      "value: ['-1', '-1', '-1', '-1', '95.000000', '-1', '-1', '-1', '83.297386', '82.819366', '46.285843', '37.740002', '92.543213', '48.852100', '91.412285', '88.759842', '41.293926', '41.293926', '1.206512', '1.206512', '78.745819', '36.263561', '8.711891', '3.741226', '3.741226', '32.198746', '10.826942', '57.602200', '75.782448', '65.017776', '11.635437', '79.974709', '89.463539', '52.673363', '52.284389', '52.284389', '38.900757', '0.000000', '-1', '-1', '-1', '95.000000']\n",
      "key: text\n",
      "value: ['', '', '', '', ' ', '', '', '', '@', 'Decentraland', 'XS', 'dypes~', 'Simulate', 'alt+tab', 'in', 'Pytl', 'x', '—', '@', 'pyautoguilettclck-GoogleSu.', 'x', '=', 'mode', 'X', '—', '@', '1.Image', 'Collection', '-JupyterNo', 'x', '3', 'image', 'processing', '-', 'Getting', 'the', 'x', 'voe', '', '', '', '']\n"
     ]
    }
   ],
   "source": [
    "for key,value in d.items():\n",
    "    print('key:', key)\n",
    "    print('value:', value)"
   ]
  },
  {
   "cell_type": "code",
   "execution_count": 8,
   "metadata": {},
   "outputs": [],
   "source": [
    "#image_path = \"D:\\Projects\\object_detection\\model\\data_collection\\dm.png\"\n",
    "image_path = \"D:\\Projects\\object_detection\\model\\screen.png\"\n",
    "\n",
    "\n",
    "pytesseract.pytesseract.tesseract_cmd = r'D:\\tesseract\\tesseract.exe'\n",
    "\n",
    "image = cv2.imread(image_path)\n",
    "grayImage = cv2.cvtColor(image, cv2.COLOR_BGR2GRAY)\n",
    "(thresh, blackAndWhiteImage) = cv2.threshold(grayImage, 200, 255,cv2.THRESH_BINARY_INV |cv2.THRESH_BINARY)\n",
    "rect_kernel = cv2.getStructuringElement(cv2.MORPH_RECT, (1, 1))\n",
    "dilation = cv2.dilate(blackAndWhiteImage, rect_kernel, iterations = 1)\n",
    "contours, hierarchy = cv2.findContours(blackAndWhiteImage, cv2.RETR_EXTERNAL,cv2.CHAIN_APPROX_NONE)\n",
    "\n",
    "show_img(blackAndWhiteImage)"
   ]
  },
  {
   "cell_type": "code",
   "execution_count": 22,
   "metadata": {},
   "outputs": [
    {
     "data": {
      "text/plain": [
       "(30, 1920)"
      ]
     },
     "execution_count": 22,
     "metadata": {},
     "output_type": "execute_result"
    }
   ],
   "source": [
    "rect.shape"
   ]
  },
  {
   "cell_type": "code",
   "execution_count": 21,
   "metadata": {},
   "outputs": [
    {
     "name": "stdout",
     "output_type": "stream",
     "text": [
      "[0 0 0 ... 0 0 0]\n",
      "[0 0 0 ... 0 0 0]\n",
      "[  0   0 255 ... 255 255   0]\n",
      "[  0   0 255 ... 255 255   0]\n",
      "[  0   0 255 ... 255 255   0]\n",
      "[  0   0 255 ... 255 255   0]\n",
      "[  0   0 255 ... 255 255   0]\n",
      "[  0   0 255 ... 255 255   0]\n",
      "[  0   0 255 ... 255 255   0]\n",
      "[  0   0 255 ... 255 255   0]\n",
      "[  0   0 255 ... 255 255   0]\n",
      "[  0   0 255 ... 255 255   0]\n",
      "[  0   0 255 ... 255 255   0]\n",
      "[  0   0 255 ... 255 255   0]\n",
      "[  0   0 255 ... 255 255   0]\n",
      "[  0   0 255 ... 255 255   0]\n",
      "[  0   0 255 ... 255 255   0]\n",
      "[  0   0 255 ... 255 255   0]\n",
      "[  0   0 255 ... 255 255   0]\n",
      "[  0   0 255 ... 255 255   0]\n",
      "[  0   0 255 ... 255 255   0]\n",
      "[  0   0 255 ... 255 255   0]\n",
      "[  0   0 255 ... 255 255   0]\n",
      "[  0   0 255 ... 255 255   0]\n",
      "[  0   0 255 ... 255 255   0]\n",
      "[  0   0 255 ... 255 255   0]\n",
      "[  0   0 255 ... 255 255   0]\n",
      "[  0   0 255 ... 255 255   0]\n",
      "[  0   0 255 ... 255 255   0]\n",
      "[0 0 0 ... 0 0 0]\n"
     ]
    }
   ],
   "source": [
    "for el in rect:\n",
    "    print(el)"
   ]
  },
  {
   "cell_type": "code",
   "execution_count": 16,
   "metadata": {},
   "outputs": [
    {
     "ename": "IndexError",
     "evalue": "list index out of range",
     "output_type": "error",
     "traceback": [
      "\u001b[1;31m---------------------------------------------------------------------------\u001b[0m",
      "\u001b[1;31mIndexError\u001b[0m                                Traceback (most recent call last)",
      "\u001b[1;32m~\\AppData\\Local\\Temp/ipykernel_17232/1832335403.py\u001b[0m in \u001b[0;36m<module>\u001b[1;34m\u001b[0m\n\u001b[0;32m     14\u001b[0m     \u001b[1;32melif\u001b[0m \u001b[0mel\u001b[0m\u001b[1;33m.\u001b[0m\u001b[0misdigit\u001b[0m\u001b[1;33m(\u001b[0m\u001b[1;33m)\u001b[0m\u001b[1;33m:\u001b[0m\u001b[1;33m\u001b[0m\u001b[1;33m\u001b[0m\u001b[0m\n\u001b[0;32m     15\u001b[0m         \u001b[0mff\u001b[0m\u001b[1;33m.\u001b[0m\u001b[0mappend\u001b[0m\u001b[1;33m(\u001b[0m\u001b[0mel\u001b[0m\u001b[1;33m)\u001b[0m\u001b[1;33m\u001b[0m\u001b[1;33m\u001b[0m\u001b[0m\n\u001b[1;32m---> 16\u001b[1;33m \u001b[0mw_coin\u001b[0m \u001b[1;33m=\u001b[0m \u001b[0mff\u001b[0m\u001b[1;33m[\u001b[0m\u001b[1;33m-\u001b[0m\u001b[1;36m2\u001b[0m\u001b[1;33m]\u001b[0m\u001b[1;33m\u001b[0m\u001b[1;33m\u001b[0m\u001b[0m\n\u001b[0m\u001b[0;32m     17\u001b[0m \u001b[0mcoordinate\u001b[0m\u001b[1;33m,\u001b[0m\u001b[0mw_coin\u001b[0m\u001b[1;33m\u001b[0m\u001b[1;33m\u001b[0m\u001b[0m\n",
      "\u001b[1;31mIndexError\u001b[0m: list index out of range"
     ]
    }
   ],
   "source": [
    "for cnt in contours:\n",
    "    x, y, w, h = cv2.boundingRect(cnt)\n",
    "    rect = cv2.rectangle(blackAndWhiteImage, (x, y), (x + w, y + h), (0, 255, 0), 2)\n",
    "    text = pytesseract.image_to_string(rect)\n",
    "    text = text.split()\n",
    "\n",
    "\n",
    "ff = []\n",
    "for el in text:\n",
    "    if len(el) ==6 and el[0]=='-' and el[1].isdigit():\n",
    "        coordinate = el\n",
    "    elif el.isdigit():\n",
    "        ff.append(el)\n",
    "w_coin = ff[-2]\n",
    "coordinate,w_coin"
   ]
  },
  {
   "cell_type": "code",
   "execution_count": 3,
   "metadata": {},
   "outputs": [],
   "source": [
    "myScreenshot = pyautogui.screenshot()\n",
    "myScreenshot.save(r'D:\\Projects\\object_detection\\model\\data_collection\\screenshot.png')"
   ]
  },
  {
   "cell_type": "code",
   "execution_count": 5,
   "metadata": {},
   "outputs": [
    {
     "data": {
      "text/plain": [
       "'data_collection\\\\images\\\\collectedimages'"
      ]
     },
     "execution_count": 5,
     "metadata": {},
     "output_type": "execute_result"
    }
   ],
   "source": [
    "IMAGES_PATH = os.path.join('data_collection', 'images', 'collectedimages')"
   ]
  },
  {
   "cell_type": "code",
   "execution_count": null,
   "metadata": {},
   "outputs": [],
   "source": [
    "# center coor of wonder land: (-27,58)\n",
    "#"
   ]
  },
  {
   "cell_type": "code",
   "execution_count": null,
   "metadata": {},
   "outputs": [],
   "source": [
    "if not os.path.exists(IMAGES_PATH):\n",
    "    if os.name == 'posix':\n",
    "        !mkdir -p {IMAGES_PATH}\n",
    "    if os.name == 'nt':\n",
    "         !mkdir {IMAGES_PATH}\n",
    "            \n",
    "for label in labels:\n",
    "    path = os.path.join(IMAGES_PATH, label)\n",
    "    if not os.path.exists(path):\n",
    "        !mkdir {path}"
   ]
  },
  {
   "cell_type": "markdown",
   "metadata": {},
   "source": [
    "# 2. Define Images to Collect"
   ]
  },
  {
   "cell_type": "code",
   "execution_count": 15,
   "metadata": {},
   "outputs": [],
   "source": [
    "labels = ['ball','ball_mine']\n",
    "number_imgs = 5"
   ]
  },
  {
   "cell_type": "markdown",
   "metadata": {},
   "source": [
    "# 3. Setup Folders "
   ]
  },
  {
   "cell_type": "markdown",
   "metadata": {},
   "source": [
    "# 4. Capture Images"
   ]
  },
  {
   "cell_type": "code",
   "execution_count": 18,
   "metadata": {},
   "outputs": [
    {
     "name": "stdout",
     "output_type": "stream",
     "text": [
      "Collecting images for thumbsup\n",
      "Collecting image 0\n",
      "Collecting image 1\n",
      "Collecting image 2\n",
      "Collecting image 3\n",
      "Collecting image 4\n"
     ]
    }
   ],
   "source": [
    "for label in labels:\n",
    "    cap = cv2.VideoCapture(0)\n",
    "    print('Collecting images for {}'.format(label))\n",
    "    time.sleep(5)\n",
    "    for imgnum in range(number_imgs):\n",
    "        print('Collecting image {}'.format(imgnum))\n",
    "        ret, frame = cap.read()\n",
    "        imgname = os.path.join(IMAGES_PATH,label,label+'.'+'{}.jpg'.format(str(uuid.uuid1())))\n",
    "        cv2.imwrite(imgname, frame)\n",
    "        cv2.imshow('frame', frame)\n",
    "        time.sleep(2)\n",
    "\n",
    "        \n",
    "        if cv2.waitKey(1) & 0xFF == ord('q'):\n",
    "            break\n",
    "cap.release()\n",
    "cv2.destroyAllWindows()"
   ]
  },
  {
   "cell_type": "markdown",
   "metadata": {},
   "source": [
    "# 5. Image Labelling"
   ]
  },
  {
   "cell_type": "code",
   "execution_count": 8,
   "metadata": {},
   "outputs": [
    {
     "name": "stdout",
     "output_type": "stream",
     "text": [
      "Collecting pyqt5\n",
      "  Downloading PyQt5-5.15.6-cp36-abi3-win_amd64.whl (6.7 MB)\n"
     ]
    },
    {
     "name": "stderr",
     "output_type": "stream",
     "text": [
      "WARNING: You are using pip version 21.1.2; however, version 21.3.1 is available.\n",
      "You should consider upgrading via the 'D:\\Projects\\object_detection\\venv\\Scripts\\python.exe -m pip install --upgrade pip' command.\n"
     ]
    },
    {
     "name": "stdout",
     "output_type": "stream",
     "text": [
      "Collecting lxml\n",
      "  Downloading lxml-4.7.1-cp39-cp39-win_amd64.whl (3.7 MB)\n",
      "Collecting PyQt5-Qt5>=5.15.2\n",
      "  Downloading PyQt5_Qt5-5.15.2-py3-none-win_amd64.whl (50.1 MB)\n",
      "Collecting PyQt5-sip<13,>=12.8\n",
      "  Downloading PyQt5_sip-12.9.0-cp39-cp39-win_amd64.whl (63 kB)\n",
      "Installing collected packages: PyQt5-sip, PyQt5-Qt5, pyqt5, lxml\n",
      "Successfully installed PyQt5-Qt5-5.15.2 PyQt5-sip-12.9.0 lxml-4.7.1 pyqt5-5.15.6\n"
     ]
    }
   ],
   "source": [
    "!pip install --upgrade pyqt5 lxml"
   ]
  },
  {
   "cell_type": "code",
   "execution_count": 10,
   "metadata": {},
   "outputs": [],
   "source": [
    "LABELIMG_PATH = os.path.join('data_collection', 'labelimg')"
   ]
  },
  {
   "cell_type": "code",
   "execution_count": 11,
   "metadata": {},
   "outputs": [
    {
     "name": "stderr",
     "output_type": "stream",
     "text": [
      "Cloning into 'data_collection\\labelimg'...\n"
     ]
    }
   ],
   "source": [
    "if not os.path.exists(LABELIMG_PATH):\n",
    "    !mkdir {LABELIMG_PATH}\n",
    "    !git clone https://github.com/tzutalin/labelImg {LABELIMG_PATH}"
   ]
  },
  {
   "cell_type": "code",
   "execution_count": 13,
   "metadata": {},
   "outputs": [],
   "source": [
    "if os.name == 'posix':\n",
    "    !make qt5py3\n",
    "if os.name =='nt':\n",
    "    !cd {LABELIMG_PATH} && pyrcc5 -o libs/resources.py resources.qrc"
   ]
  },
  {
   "cell_type": "code",
   "execution_count": 19,
   "metadata": {},
   "outputs": [
    {
     "name": "stdout",
     "output_type": "stream",
     "text": [
      "Image:D:\\YouTube\\OD\\TFODCourse\\Tensorflow\\workspace\\images\\collectedimages\\thumbsup\\thumbsup.6a706a36-940f-11eb-b4eb-5cf3709bbcc6.jpg -> Annotation:D:/YouTube/OD/TFODCourse/Tensorflow/workspace/images/collectedimages/thumbsup/thumbsup.6a706a36-940f-11eb-b4eb-5cf3709bbcc6.xml\n",
      "Image:D:\\YouTube\\OD\\TFODCourse\\Tensorflow\\workspace\\images\\collectedimages\\thumbsup\\thumbsup.6ba4d864-940f-11eb-8c74-5cf3709bbcc6.jpg -> Annotation:D:/YouTube/OD/TFODCourse/Tensorflow/workspace/images/collectedimages/thumbsup/thumbsup.6ba4d864-940f-11eb-8c74-5cf3709bbcc6.xml\n",
      "Image:D:\\YouTube\\OD\\TFODCourse\\Tensorflow\\workspace\\images\\collectedimages\\thumbsup\\thumbsup.6cd9c8e2-940f-11eb-b901-5cf3709bbcc6.jpg -> Annotation:D:/YouTube/OD/TFODCourse/Tensorflow/workspace/images/collectedimages/thumbsup/thumbsup.6cd9c8e2-940f-11eb-b901-5cf3709bbcc6.xml\n",
      "Image:D:\\YouTube\\OD\\TFODCourse\\Tensorflow\\workspace\\images\\collectedimages\\thumbsup\\thumbsup.6e0f5bc0-940f-11eb-8d18-5cf3709bbcc6.jpg -> Annotation:D:/YouTube/OD/TFODCourse/Tensorflow/workspace/images/collectedimages/thumbsup/thumbsup.6e0f5bc0-940f-11eb-8d18-5cf3709bbcc6.xml\n",
      "Image:D:\\YouTube\\OD\\TFODCourse\\Tensorflow\\workspace\\images\\collectedimages\\thumbsup\\thumbsup.693a5158-940f-11eb-8752-5cf3709bbcc6.jpg -> Annotation:D:/YouTube/OD/TFODCourse/Tensorflow/workspace/images/collectedimages/thumbsup/thumbsup.693a5158-940f-11eb-8752-5cf3709bbcc6.xml\n"
     ]
    }
   ],
   "source": [
    "!cd {LABELIMG_PATH} && python labelImg.py"
   ]
  },
  {
   "cell_type": "markdown",
   "metadata": {},
   "source": [
    "# 6. Move them into a Training and Testing Partition"
   ]
  },
  {
   "cell_type": "markdown",
   "metadata": {},
   "source": [
    "# OPTIONAL - 7. Compress them for Colab Training"
   ]
  },
  {
   "cell_type": "code",
   "execution_count": 20,
   "metadata": {},
   "outputs": [],
   "source": [
    "TRAIN_PATH = os.path.join('Tensorflow', 'workspace', 'images', 'train')\n",
    "TEST_PATH = os.path.join('Tensorflow', 'workspace', 'images', 'test')\n",
    "ARCHIVE_PATH = os.path.join('Tensorflow', 'workspace', 'images', 'archive.tar.gz')"
   ]
  },
  {
   "cell_type": "code",
   "execution_count": 21,
   "metadata": {},
   "outputs": [],
   "source": [
    "!tar -czf {ARCHIVE_PATH} {TRAIN_PATH} {TEST_PATH}"
   ]
  },
  {
   "cell_type": "code",
   "execution_count": null,
   "metadata": {},
   "outputs": [],
   "source": []
  }
 ],
 "metadata": {
  "kernelspec": {
   "display_name": "Python 3 (ipykernel)",
   "language": "python",
   "name": "python3"
  },
  "language_info": {
   "codemirror_mode": {
    "name": "ipython",
    "version": 3
   },
   "file_extension": ".py",
   "mimetype": "text/x-python",
   "name": "python",
   "nbconvert_exporter": "python",
   "pygments_lexer": "ipython3",
   "version": "3.9.1"
  }
 },
 "nbformat": 4,
 "nbformat_minor": 2
}
