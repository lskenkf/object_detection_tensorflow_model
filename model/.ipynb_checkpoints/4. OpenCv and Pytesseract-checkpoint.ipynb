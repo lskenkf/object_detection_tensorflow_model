{
 "cells": [
  {
   "cell_type": "code",
   "execution_count": 2,
   "id": "d80f494b",
   "metadata": {},
   "outputs": [],
   "source": [
    "import pytesseract\n",
    "import pyautogui\n",
    "from pytesseract import Output\n",
    "import cv2 \n",
    "import time\n",
    "import numpy"
   ]
  },
  {
   "cell_type": "code",
   "execution_count": 3,
   "id": "c480415a",
   "metadata": {},
   "outputs": [],
   "source": [
    "img = 'sample.png'"
   ]
  },
  {
   "cell_type": "code",
   "execution_count": 4,
   "id": "e58be43f",
   "metadata": {},
   "outputs": [
    {
     "data": {
      "text/plain": [
       "(1080, 1920, 3)"
      ]
     },
     "execution_count": 4,
     "metadata": {},
     "output_type": "execute_result"
    }
   ],
   "source": [
    "image = pyautogui.screenshot()\n",
    "image = cv2.cvtColor(numpy.array(image),cv2.COLOR_RGB2BGR)\n",
    "image.shape"
   ]
  },
  {
   "cell_type": "code",
   "execution_count": 19,
   "id": "b2050d9c",
   "metadata": {},
   "outputs": [],
   "source": [
    "class Bot:\n",
    "    def __init__(self):\n",
    "        \n",
    "        img = pyautogui.screenshot()\n",
    "        img = cv2.cvtColor(numpy.array(img),cv2.COLOR_RGB2BGR)\n",
    "        self.width,self.length,_ = img.shape\n",
    "        \n",
    "        \n",
    "    def select_wondermine_game_tab(self):\n",
    "        \n",
    "        img = pyautogui.screenshot()\n",
    "        img = cv2.cvtColor(numpy.array(img),cv2.COLOR_RGB2BGR)\n",
    "        img = img[0:35, :]\n",
    "        data = pytesseract.image_to_data(img,output_type=Output.DICT,lang='eng')\n",
    "        index = data['text'].index('Decentraland')\n",
    "        left,top = data['left'][index],data['top'][index]\n",
    "        pyautogui.click(x=left, y=top)\n",
    "        pyautogui.click(x=int(self.length/2), y= int(self.width/2))\n",
    "        pyautogui.click(x=int(self.length/2), y= int(self.width/2))\n",
    "        \n",
    "    def enter_wondetmine_via_map(self):\n",
    "        \n",
    "        pyautogui.write('m')\n",
    "        time.sleep(2)\n",
    "        pyautogui.write('esc')\n",
    "        time.sleep(2)\n",
    "        pyautogui.click(x=int(self.length/4), y= int(self.width/2))\n",
    "        time.sleep(2)\n",
    "        pyautogui.scroll(700)\n",
    "        self.jump_to()\n",
    "        time.sleep(30)\n",
    "        pyautogui.write('esc')\n",
    "        pyautogui.click(button='left')\n",
    "        pyautogui.write('v')\n",
    "        \n",
    "        \n",
    "    def jump_to(self):\n",
    "\n",
    "        time.sleep(3)\n",
    "        img = pyautogui.screenshot()\n",
    "        img = cv2.cvtColor(numpy.array(img),cv2.COLOR_BGR2GRAY)\n",
    "        ret,thresh1 = cv2.threshold(img,230,255,cv2.THRESH_BINARY)\n",
    "        thresh1 = (255-thresh1)\n",
    "        data = pytesseract.image_to_data(thresh1,output_type=Output.DICT,lang='eng')\n",
    "        index = data['text'].index('IN')\n",
    "        left,top = data['left'][index],data['top'][index]\n",
    "        pyautogui.click(x=left, y=top)\n",
    "        pyautogui.click(x=int(self.length/2), y= int(self.width/2))\n",
    "        pyautogui.click(x=int(self.length/2), y= int(self.width/2))\n",
    "        \n",
    "        \n",
    "        \n",
    "    def get_opp_mining(self,img):\n",
    "        \n",
    "        img = cv2.imread(img,0)\n",
    "        ret,thresh1 = cv2.threshold(img,230,255,cv2.THRESH_BINARY)\n",
    "        data = pytesseract.image_to_data(thresh1,output_type=Output.DICT,lang='eng')\n",
    "        num_coin = int(data['text'][-3])\n",
    "        return num_coin/5 > 1\n",
    "    \n",
    "\n",
    "    def get_ingame_coordinate(self,img):\n",
    "        \n",
    "        img = cv2.imread(img)\n",
    "        ret,thresh1 = cv2.threshold(img,230,255,cv2.THRESH_BINARY)\n",
    "        data = pytesseract.image_to_data(img,output_type=Output.DICT,lang='eng')\n",
    "        data  = [el for el in data['text'] if len(el) ==6]\n",
    "        coordinate = data[-1]\n",
    "        return coordinate \n",
    "    \n",
    "    \n",
    "    \n",
    "Bot = Bot()\n",
    "Bot.width,Bot.length\n",
    "Bot.select_wondermine_game_tab()\n",
    "Bot.enter_wondetmine_via_map()"
   ]
  },
  {
   "cell_type": "code",
   "execution_count": 9,
   "id": "f05fd7fe",
   "metadata": {},
   "outputs": [],
   "source": [
    "img = cv2.cvtColor(numpy.array(img),cv2.COLOR_BGR2GRAY)\n",
    "ret,thresh1 = cv2.threshold(img,230,255,cv2.THRESH_BINARY)\n",
    "thresh1 = (255-thresh1)\n",
    "data = pytesseract.image_to_data(thresh1,output_type=Output.DICT,lang='eng')"
   ]
  },
  {
   "cell_type": "code",
   "execution_count": 10,
   "id": "fcb33120",
   "metadata": {},
   "outputs": [
    {
     "data": {
      "text/plain": [
       "-1"
      ]
     },
     "execution_count": 10,
     "metadata": {},
     "output_type": "execute_result"
    }
   ],
   "source": [
    "\n",
    "cv2.imshow('image',thresh1)\n",
    "cv2.waitKey(0)"
   ]
  },
  {
   "cell_type": "code",
   "execution_count": 12,
   "id": "5fd37b23",
   "metadata": {},
   "outputs": [
    {
     "data": {
      "text/plain": [
       "163"
      ]
     },
     "execution_count": 12,
     "metadata": {},
     "output_type": "execute_result"
    }
   ],
   "source": [
    "data['text'].index('JUMP')"
   ]
  },
  {
   "cell_type": "code",
   "execution_count": null,
   "id": "afd8e1eb",
   "metadata": {},
   "outputs": [],
   "source": [
    "def read_coordinate():\n",
    "    "
   ]
  },
  {
   "cell_type": "code",
   "execution_count": null,
   "id": "dea88e97",
   "metadata": {},
   "outputs": [],
   "source": [
    "# -29,55\n",
    "\n",
    "def enter_wondetmine_via_map()\n",
    "    "
   ]
  },
  {
   "cell_type": "code",
   "execution_count": 52,
   "id": "e7d230c3",
   "metadata": {},
   "outputs": [],
   "source": [
    "def select_game_tab():\n",
    "    image = pyautogui.screenshot()\n",
    "    image = cv2.cvtColor(numpy.array(image),cv2.COLOR_RGB2BGR)\n",
    "    image = image[0:35, :]\n",
    "    data = pytesseract.image_to_data(image,output_type=Output.DICT,lang='eng')\n",
    "    index = data['text'].index('Decentraland')\n",
    "    left,top = data['left'][index],data['top'][index]\n",
    "    pyautogui.click(x=left, y=top)\n",
    "    \n",
    "select_game_tab()    "
   ]
  },
  {
   "cell_type": "code",
   "execution_count": null,
   "id": "072ee002",
   "metadata": {},
   "outputs": [],
   "source": []
  },
  {
   "cell_type": "code",
   "execution_count": 7,
   "id": "6f692007",
   "metadata": {},
   "outputs": [
    {
     "data": {
      "text/plain": [
       "True"
      ]
     },
     "execution_count": 7,
     "metadata": {},
     "output_type": "execute_result"
    }
   ],
   "source": [
    "def get_opp_mining(img):\n",
    "    img = cv2.imread(img,0)\n",
    "    ret,thresh1 = cv2.threshold(img,230,255,cv2.THRESH_BINARY)\n",
    "    data = pytesseract.image_to_data(thresh1,output_type=Output.DICT,lang='eng')\n",
    "    num_coin = int(data['text'][-3])\n",
    "    return num_coin/5 > 1\n",
    "\n",
    "get_opp_mining(img)"
   ]
  },
  {
   "cell_type": "code",
   "execution_count": 38,
   "id": "a02e734f",
   "metadata": {},
   "outputs": [
    {
     "data": {
      "text/plain": [
       "'-29,55'"
      ]
     },
     "execution_count": 38,
     "metadata": {},
     "output_type": "execute_result"
    }
   ],
   "source": [
    "def get_coordinate(img):\n",
    "    img = cv2.imread(img)\n",
    "    ret,thresh1 = cv2.threshold(img,230,255,cv2.THRESH_BINARY)\n",
    "\n",
    "    data = pytesseract.image_to_data(img,output_type=Output.DICT,lang='eng')\n",
    "    data  = [el for el in data['text'] if len(el) ==6]\n",
    "    coordinate = data[-1]\n",
    "    return coordinate\n",
    "\n",
    "get_coordinate(img)"
   ]
  },
  {
   "cell_type": "code",
   "execution_count": 9,
   "id": "647b1da3",
   "metadata": {},
   "outputs": [
    {
     "data": {
      "text/plain": [
       "-1"
      ]
     },
     "execution_count": 9,
     "metadata": {},
     "output_type": "execute_result"
    }
   ],
   "source": [
    "import numpy as np\n",
    "import cv2\n",
    "import pyautogui\n",
    "   \n",
    "  \n",
    "# take screenshot using pyautogui\n",
    "image = pyautogui.screenshot()\n",
    "   \n",
    "# since the pyautogui takes as a \n",
    "# PIL(pillow) and in RGB we need to \n",
    "# convert it to numpy array and BGR \n",
    "# so we can write it to the disk\n",
    "image = cv2.cvtColor(np.array(image),\n",
    "                     cv2.COLOR_RGB2BGR)\n",
    "   \n",
    "# writing it to the disk using opencv\n",
    "#cv2.imwrite(\"image1.png\", image)\n",
    "\n",
    "cv2.imshow('image',image)\n",
    "cv2.waitKey(0)"
   ]
  },
  {
   "cell_type": "code",
   "execution_count": 10,
   "id": "398e8d6a",
   "metadata": {},
   "outputs": [],
   "source": [
    "# get position of current mouse cursor pyautogui.position()"
   ]
  },
  {
   "cell_type": "code",
   "execution_count": 11,
   "id": "f6c45890",
   "metadata": {},
   "outputs": [
    {
     "data": {
      "text/plain": [
       "Point(x=1908, y=14)"
      ]
     },
     "execution_count": 11,
     "metadata": {},
     "output_type": "execute_result"
    }
   ],
   "source": [
    "pyautogui.position()"
   ]
  },
  {
   "cell_type": "code",
   "execution_count": 61,
   "id": "a292a584",
   "metadata": {},
   "outputs": [],
   "source": [
    "for i in range(5):\n",
    "\n",
    "    pyautogui.click(x=85, y=24)\n",
    "    time.sleep(2)\n",
    "    pyautogui.click(x=998, y=23)\n",
    "    time.sleep(2)"
   ]
  },
  {
   "cell_type": "code",
   "execution_count": null,
   "id": "e3c42799",
   "metadata": {},
   "outputs": [],
   "source": []
  }
 ],
 "metadata": {
  "kernelspec": {
   "display_name": "Python 3 (ipykernel)",
   "language": "python",
   "name": "python3"
  },
  "language_info": {
   "codemirror_mode": {
    "name": "ipython",
    "version": 3
   },
   "file_extension": ".py",
   "mimetype": "text/x-python",
   "name": "python",
   "nbconvert_exporter": "python",
   "pygments_lexer": "ipython3",
   "version": "3.9.1"
  }
 },
 "nbformat": 4,
 "nbformat_minor": 5
}
