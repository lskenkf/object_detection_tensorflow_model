{
 "cells": [
  {
   "cell_type": "markdown",
   "metadata": {},
   "source": [
    "# 1. Import Dependencies"
   ]
  },
  {
   "cell_type": "code",
   "execution_count": 7,
   "metadata": {},
   "outputs": [],
   "source": [
    "import cv2 \n",
    "import uuid\n",
    "import os\n",
    "import time\n",
    "import pyautogui\n",
    "from imutils import contours\n",
    "import imutils\n",
    "import pytesseract"
   ]
  },
  {
   "cell_type": "code",
   "execution_count": 13,
   "metadata": {},
   "outputs": [],
   "source": [
    "IMG_PATH = r'D:\\Projects\\object_detection\\model\\ball'\n",
    "LABELIMG_PATH = os.path.join(IMG_PATH,'learning')"
   ]
  },
  {
   "cell_type": "code",
   "execution_count": null,
   "metadata": {},
   "outputs": [],
   "source": []
  },
  {
   "cell_type": "markdown",
   "metadata": {},
   "source": [
    "# 5. Image Labelling"
   ]
  },
  {
   "cell_type": "code",
   "execution_count": 3,
   "metadata": {},
   "outputs": [
    {
     "name": "stdout",
     "output_type": "stream",
     "text": [
      "Requirement already up-to-date: pyqt5 in d:\\projects\\object_detection\\venv\\lib\\site-packages (5.15.6)\n",
      "Requirement already up-to-date: lxml in d:\\projects\\object_detection\\venv\\lib\\site-packages (4.7.1)\n",
      "Requirement already satisfied, skipping upgrade: PyQt5-sip<13,>=12.8 in d:\\projects\\object_detection\\venv\\lib\\site-packages (from pyqt5) (12.9.0)\n",
      "Requirement already satisfied, skipping upgrade: PyQt5-Qt5>=5.15.2 in d:\\projects\\object_detection\\venv\\lib\\site-packages (from pyqt5) (5.15.2)\n"
     ]
    },
    {
     "name": "stderr",
     "output_type": "stream",
     "text": [
      "WARNING: You are using pip version 20.2.3; however, version 21.3.1 is available.\n",
      "You should consider upgrading via the 'D:\\Projects\\object_detection\\venv\\Scripts\\python.exe -m pip install --upgrade pip' command.\n"
     ]
    }
   ],
   "source": [
    "!pip install --upgrade pyqt5 lxml"
   ]
  },
  {
   "cell_type": "code",
   "execution_count": 14,
   "metadata": {},
   "outputs": [
    {
     "name": "stderr",
     "output_type": "stream",
     "text": [
      "Cloning into 'D:\\Projects\\object_detection\\model\\ball\\learning'...\n"
     ]
    }
   ],
   "source": [
    "if not os.path.exists(LABELIMG_PATH):\n",
    "    !mkdir {LABELIMG_PATH}\n",
    "    !git clone https://github.com/tzutalin/labelImg {LABELIMG_PATH}"
   ]
  },
  {
   "cell_type": "code",
   "execution_count": null,
   "metadata": {},
   "outputs": [],
   "source": []
  },
  {
   "cell_type": "code",
   "execution_count": 15,
   "metadata": {},
   "outputs": [],
   "source": [
    "if os.name == 'posix': # linux system\n",
    "    !make qt5py3\n",
    "if os.name =='nt':  # windows system\n",
    "    !cd {LABELIMG_PATH} && pyrcc5 -o libs/resources.py resources.qrc"
   ]
  },
  {
   "cell_type": "code",
   "execution_count": 16,
   "metadata": {},
   "outputs": [
    {
     "name": "stdout",
     "output_type": "stream",
     "text": [
      "Image:D:\\Projects\\object_detection\\model\\ball\\Decentraland - Google Chrome 31_12_2021 12_45_42.png -> Annotation:D:/Projects/object_detection/model/ball/labels/Decentraland - Google Chrome 31_12_2021 12_45_42.xml\n",
      "Image:D:\\Projects\\object_detection\\model\\ball\\Decentraland - Google Chrome 31_12_2021 12_45_50.png -> Annotation:D:/Projects/object_detection/model/ball/labels/Decentraland - Google Chrome 31_12_2021 12_45_50.xml\n",
      "Image:D:\\Projects\\object_detection\\model\\ball\\Decentraland - Google Chrome 31_12_2021 12_45_59.png -> Annotation:D:/Projects/object_detection/model/ball/Decentraland - Google Chrome 31_12_2021 12_45_59.xml\n",
      "Image:D:\\Projects\\object_detection\\model\\ball\\black_ball\\Decentraland - Google Chrome 31_12_2021 12_45_42.png -> Annotation:D:/Projects/object_detection/model/ball/black_ball/Decentraland - Google Chrome 31_12_2021 12_45_42.xml\n",
      "Image:D:\\Projects\\object_detection\\model\\ball\\black_ball\\Decentraland - Google Chrome 31_12_2021 12_45_50.png -> Annotation:D:/Projects/object_detection/model/ball/black_ball/Decentraland - Google Chrome 31_12_2021 12_45_50.xml\n",
      "Image:D:\\Projects\\object_detection\\model\\ball\\black_ball\\Decentraland - Google Chrome 31_12_2021 12_45_59.png -> Annotation:D:/Projects/object_detection/model/ball/black_ball/Decentraland - Google Chrome 31_12_2021 12_45_59.xml\n",
      "Image:D:\\Projects\\object_detection\\model\\ball\\black_ball\\Decentraland - Google Chrome 31_12_2021 12_46_06.png -> Annotation:D:/Projects/object_detection/model/ball/black_ball/Decentraland - Google Chrome 31_12_2021 12_46_06.xml\n",
      "Image:D:\\Projects\\object_detection\\model\\ball\\black_ball\\Decentraland - Google Chrome 31_12_2021 12_46_14.png -> Annotation:D:/Projects/object_detection/model/ball/black_ball/Decentraland - Google Chrome 31_12_2021 12_46_14.xml\n",
      "Image:D:\\Projects\\object_detection\\model\\ball\\black_ball\\Decentraland - Google Chrome 31_12_2021 12_47_00.png -> Annotation:D:/Projects/object_detection/model/ball/black_ball/Decentraland - Google Chrome 31_12_2021 12_47_00.xml\n",
      "Image:D:\\Projects\\object_detection\\model\\ball\\black_ball\\Decentraland - Google Chrome 31_12_2021 12_47_24.png -> Annotation:D:/Projects/object_detection/model/ball/black_ball/Decentraland - Google Chrome 31_12_2021 12_47_24.xml\n",
      "Image:D:\\Projects\\object_detection\\model\\ball\\black_ball\\Decentraland - Google Chrome 31_12_2021 12_47_34.png -> Annotation:D:/Projects/object_detection/model/ball/black_ball/Decentraland - Google Chrome 31_12_2021 12_47_34.xml\n",
      "Image:D:\\Projects\\object_detection\\model\\ball\\black_ball\\Decentraland - Google Chrome 31_12_2021 12_47_41.png -> Annotation:D:/Projects/object_detection/model/ball/black_ball/Decentraland - Google Chrome 31_12_2021 12_47_41.xml\n",
      "Image:D:\\Projects\\object_detection\\model\\ball\\black_ball\\Decentraland - Google Chrome 31_12_2021 12_47_46.png -> Annotation:D:/Projects/object_detection/model/ball/black_ball/Decentraland - Google Chrome 31_12_2021 12_47_46.xml\n",
      "Image:D:\\Projects\\object_detection\\model\\ball\\black_ball\\Decentraland - Google Chrome 31_12_2021 12_48_19.png -> Annotation:D:/Projects/object_detection/model/ball/black_ball/Decentraland - Google Chrome 31_12_2021 12_48_19.xml\n",
      "Image:D:\\Projects\\object_detection\\model\\ball\\black_ball\\Decentraland - Google Chrome 31_12_2021 12_48_27.png -> Annotation:D:/Projects/object_detection/model/ball/black_ball/Decentraland - Google Chrome 31_12_2021 12_48_27.xml\n",
      "Image:D:\\Projects\\object_detection\\model\\ball\\black_ball\\Decentraland - Google Chrome 31_12_2021 12_49_46.png -> Annotation:D:/Projects/object_detection/model/ball/black_ball/Decentraland - Google Chrome 31_12_2021 12_49_46.xml\n",
      "Image:D:\\Projects\\object_detection\\model\\ball\\black_ball\\Decentraland - Google Chrome 31_12_2021 12_49_52.png -> Annotation:D:/Projects/object_detection/model/ball/black_ball/Decentraland - Google Chrome 31_12_2021 12_49_52.xml\n",
      "Image:D:\\Projects\\object_detection\\model\\ball\\black_ball\\Decentraland - Google Chrome 31_12_2021 12_51_02.png -> Annotation:D:/Projects/object_detection/model/ball/black_ball/Decentraland - Google Chrome 31_12_2021 12_51_02.xml\n",
      "Image:D:\\Projects\\object_detection\\model\\ball\\black_ball\\Decentraland - Google Chrome 31_12_2021 12_51_12.png -> Annotation:D:/Projects/object_detection/model/ball/black_ball/Decentraland - Google Chrome 31_12_2021 12_51_12.xml\n",
      "Image:D:\\Projects\\object_detection\\model\\ball\\black_ball\\Decentraland - Google Chrome 31_12_2021 12_51_18.png -> Annotation:D:/Projects/object_detection/model/ball/black_ball/Decentraland - Google Chrome 31_12_2021 12_51_18.xml\n",
      "Image:D:\\Projects\\object_detection\\model\\ball\\black_ball\\Decentraland - Google Chrome 31_12_2021 12_51_31.png -> Annotation:D:/Projects/object_detection/model/ball/black_ball/Decentraland - Google Chrome 31_12_2021 12_51_31.xml\n",
      "Image:D:\\Projects\\object_detection\\model\\ball\\black_ball\\Decentraland - Google Chrome 31_12_2021 12_51_39.png -> Annotation:D:/Projects/object_detection/model/ball/black_ball/Decentraland - Google Chrome 31_12_2021 12_51_39.xml\n",
      "Image:D:\\Projects\\object_detection\\model\\ball\\black_ball\\Decentraland - Google Chrome 31_12_2021 12_51_50.png -> Annotation:D:/Projects/object_detection/model/ball/black_ball/Decentraland - Google Chrome 31_12_2021 12_51_50.xml\n",
      "Image:D:\\Projects\\object_detection\\model\\ball\\black_ball\\Decentraland - Google Chrome 31_12_2021 12_51_56.png -> Annotation:D:/Projects/object_detection/model/ball/black_ball/Decentraland - Google Chrome 31_12_2021 12_51_56.xml\n",
      "Image:D:\\Projects\\object_detection\\model\\ball\\black_ball\\Decentraland - Google Chrome 31_12_2021 12_52_08.png -> Annotation:D:/Projects/object_detection/model/ball/black_ball/Decentraland - Google Chrome 31_12_2021 12_52_08.xml\n",
      "Image:D:\\Projects\\object_detection\\model\\ball\\black_ball\\Decentraland - Google Chrome 31_12_2021 12_52_14.png -> Annotation:D:/Projects/object_detection/model/ball/black_ball/Decentraland - Google Chrome 31_12_2021 12_52_14.xml\n",
      "Image:D:\\Projects\\object_detection\\model\\ball\\black_ball\\Decentraland - Google Chrome 31_12_2021 12_52_21.png -> Annotation:D:/Projects/object_detection/model/ball/black_ball/Decentraland - Google Chrome 31_12_2021 12_52_21.xml\n",
      "Image:D:\\Projects\\object_detection\\model\\ball\\black_ball\\Decentraland - Google Chrome 31_12_2021 12_52_38.png -> Annotation:D:/Projects/object_detection/model/ball/black_ball/Decentraland - Google Chrome 31_12_2021 12_52_38.xml\n",
      "Image:D:\\Projects\\object_detection\\model\\ball\\black_ball\\Decentraland - Google Chrome 31_12_2021 12_52_45.png -> Annotation:D:/Projects/object_detection/model/ball/black_ball/Decentraland - Google Chrome 31_12_2021 12_52_45.xml\n",
      "Image:D:\\Projects\\object_detection\\model\\ball\\black_ball\\Decentraland - Google Chrome 31_12_2021 12_52_52.png -> Annotation:D:/Projects/object_detection/model/ball/black_ball/Decentraland - Google Chrome 31_12_2021 12_52_52.xml\n"
     ]
    }
   ],
   "source": [
    "!cd {LABELIMG_PATH} && python labelImg.py"
   ]
  },
  {
   "cell_type": "markdown",
   "metadata": {},
   "source": [
    "# 6. Move them into a Training and Testing Partition"
   ]
  },
  {
   "cell_type": "markdown",
   "metadata": {},
   "source": [
    "# OPTIONAL - 7. Compress them for Colab Training"
   ]
  },
  {
   "cell_type": "code",
   "execution_count": 8,
   "metadata": {},
   "outputs": [],
   "source": [
    "import os\n",
    "TRAIN_PATH = os.path.join('Tensorflow', 'workspace', 'images', 'train')\n",
    "TEST_PATH = os.path.join('Tensorflow', 'workspace', 'images', 'test')\n",
    "ARCHIVE_PATH = os.path.join('Tensorflow', 'workspace', 'images', 'archive.tar.gz')"
   ]
  },
  {
   "cell_type": "code",
   "execution_count": 9,
   "metadata": {},
   "outputs": [
    {
     "data": {
      "text/plain": [
       "'Tensorflow\\\\workspace\\\\images\\\\train'"
      ]
     },
     "execution_count": 9,
     "metadata": {},
     "output_type": "execute_result"
    }
   ],
   "source": [
    "TRAIN_PATH"
   ]
  },
  {
   "cell_type": "code",
   "execution_count": 10,
   "metadata": {},
   "outputs": [],
   "source": [
    "!tar -czf {ARCHIVE_PATH} {TRAIN_PATH} {TEST_PATH}"
   ]
  },
  {
   "cell_type": "code",
   "execution_count": null,
   "metadata": {},
   "outputs": [],
   "source": []
  }
 ],
 "metadata": {
  "kernelspec": {
   "display_name": "Python 3 (ipykernel)",
   "language": "python",
   "name": "python3"
  },
  "language_info": {
   "codemirror_mode": {
    "name": "ipython",
    "version": 3
   },
   "file_extension": ".py",
   "mimetype": "text/x-python",
   "name": "python",
   "nbconvert_exporter": "python",
   "pygments_lexer": "ipython3",
   "version": "3.9.1"
  }
 },
 "nbformat": 4,
 "nbformat_minor": 2
}
